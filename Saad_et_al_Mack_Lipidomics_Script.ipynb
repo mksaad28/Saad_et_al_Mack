{
 "cells": [
  {
   "cell_type": "code",
   "execution_count": 20,
   "metadata": {},
   "outputs": [],
   "source": [
    "import numpy as np\n",
    "import pandas as pd\n",
    "import matplotlib.pyplot as plt\n",
    "import seaborn as sns\n",
    "from sklearn.preprocessing import StandardScaler\n",
    "from sklearn.decomposition import PCA"
   ]
  },
  {
   "cell_type": "code",
   "execution_count": 21,
   "metadata": {},
   "outputs": [],
   "source": [
    "# This cell should be the only one that changes, as this is where the dataset and corresponding sample information\n",
    "date = '051822'\n",
    "df = pd.read_excel('051822PjyuenmsaadLipidomics1_15.xlsx', header=21) # Make sure to change header depending on your data file\n",
    "\n",
    "# Make sure sample names is in same order as data\n",
    "Wk2 = ['2_3','2_2','2_1']\n",
    "Wk1 = ['1_3','1_2','1_1']\n",
    "\n",
    "\n",
    "\n",
    "sample_names = Wk2 + Wk1\n",
    "sample_names_plotting = sample_names\n",
    "\n",
    "groups = {'Wk1':Wk1, 'Wk2': Wk2}\n",
    "\n",
    "hue_order_list = None\n",
    "\n",
    "\n",
    "num_fatty_acid_columns = 3 #Change to 4 if there is an FA4 column\n"
   ]
  },
  {
   "cell_type": "markdown",
   "metadata": {},
   "source": [
    "## Functions"
   ]
  },
  {
   "cell_type": "code",
   "execution_count": 22,
   "metadata": {},
   "outputs": [],
   "source": [
    "def strfilter(func, s: str) -> str:\n",
    "    \"\"\"\n",
    "    Return a string containing all characters in s such that func(s) is true.\n",
    "    \"\"\"\n",
    "    return ''.join(i for i in s if func(i))\n",
    "def get_sat(s):\n",
    "    new = ''\n",
    "    i = 0\n",
    "    while not str.isdecimal(s[i]):\n",
    "        i += 1\n",
    "    while i < len(s) and str.isdecimal(s[i]):\n",
    "        new += s[i]\n",
    "        i += 1\n",
    "    return new\n",
    "def average_samples(data):\n",
    "    for k, v in groups.items():\n",
    "        if len(v) > 1:\n",
    "            data[k] = data.loc[:, v].mean(axis=1)\n",
    "    return data\n",
    "def name_map(name: str) -> str:\n",
    "    for k, v in groups.items():\n",
    "        if name in v:\n",
    "            return k\n",
    "    return name"
   ]
  },
  {
   "cell_type": "code",
   "execution_count": 23,
   "metadata": {},
   "outputs": [],
   "source": [
    "# constants\n",
    "phospholipids = ['PC', 'PE', 'LPC', 'LPE', 'PS', 'LPS', 'PG', 'LPG', 'PA',\n",
    "                 'LPA', 'PI', 'LPI', 'PIP', 'PIP2', 'PIP3', 'CL', 'PGP',\n",
    "                 'PPA', 'CDP-DG', 'SM']\n",
    "atom_masses = {'C': 12.011, 'N': 14.007, 'H': 1.008, 'O': 15.999, 'P': 30.974}\n",
    "tails_1 = {i: 1 for i in ['LPC','LPE','LPS','LPG','LPA','LPI']}\n",
    "tails_2 = {i:2 for i in ['PC','PE','PS','PA','PI','PIP','PIP2','PIP3','PGP','PPA', 'CDP-DG','SM']}\n",
    "tails_3_4 = { 'TG':3,'CL':4}\n",
    "\n",
    "from itertools import chain\n",
    "tails = dict(chain.from_iterable(d.items() for d in (tails_1, tails_2, tails_3_4)))\n",
    "\n",
    "sample_columns = ['Area[c-' + str(sample + 1) + ']' for sample in range(0, len(sample_names))]\n",
    "fa_columns = ['FA' + str(i) for i in range(1, num_fatty_acid_columns + 1)]"
   ]
  },
  {
   "cell_type": "code",
   "execution_count": 24,
   "metadata": {},
   "outputs": [],
   "source": [
    "def sum_areas(data):\n",
    "    \"\"\"\n",
    "    Sum the areas corresponding to each fatty acid.\n",
    "    \n",
    "    Args:\n",
    "        data: a pandas dataframe with lipids as index and columns corresponding to\n",
    "        the fatty acids in each lipid and the area calculated for that lipid in each sample\n",
    "    Returns:\n",
    "        a new pandas dataframe with fatty acids as index and columns for each sample, where the\n",
    "        value at df.loc[fatty_acid, sample] is the sum of the areas for that sample in rows of\n",
    "        data where fatty_acid is one of the fatty acids in the lipid, counting multiple times if\n",
    "        the fatty acid appears multiple times in that lipid.\n",
    "    \"\"\"\n",
    "    # we treat '(12:2p)' and '(12:2)' as the same fatty acid\n",
    "    data.loc[:, fa_columns] = data.loc[:, fa_columns].applymap(standardize_formula)\n",
    "    dfs = [data[sample_columns].groupby(data[i]).sum()\n",
    "           for i in fa_columns]\n",
    "    return pd.concat(dfs).groupby(level=0).sum()"
   ]
  },
  {
   "cell_type": "code",
   "execution_count": 25,
   "metadata": {},
   "outputs": [],
   "source": [
    "def remove_wrong_fatty_acid_counts(data):\n",
    "    data['right_fa_count'] = False\n",
    "    for i, row in data.iterrows():\n",
    "        try:\n",
    "            if tails[row['Class']] == num_fatty_acid_columns - row[fa_columns].isna().sum():\n",
    "                data.loc[i, 'right_fa_count'] = True\n",
    "        except KeyError:\n",
    "            data.loc[i, 'right_fa_count'] = True\n",
    "    return data[data['right_fa_count']]"
   ]
  },
  {
   "cell_type": "code",
   "execution_count": 26,
   "metadata": {},
   "outputs": [],
   "source": [
    "def how_much_saturated(formula: str) -> str:\n",
    "    \"\"\"\n",
    "    From a formula of the form '(14:2)', extract the number of double bonds and return\n",
    "    the saturation level ('saturated', 'mono', or 'poly').\n",
    "    \"\"\"\n",
    "    double_bonds = int(formula.split(':')[1].split(' ')[0])\n",
    "    if double_bonds == 0:\n",
    "        return 'saturated'\n",
    "    elif double_bonds == 1:\n",
    "        return 'mono'\n",
    "    else:\n",
    "        return 'poly'"
   ]
  },
  {
   "cell_type": "code",
   "execution_count": 27,
   "metadata": {},
   "outputs": [],
   "source": [
    "def standardize_formula(formula: str) -> str:\n",
    "    \"\"\"\n",
    "    Transform formulas of the form '(12:20p)' to the form '12:20'.\n",
    "    \"\"\"\n",
    "    if pd.isna(formula):\n",
    "        return formula\n",
    "    try:\n",
    "        a, b = formula.split(':')\n",
    "    except ValueError:\n",
    "        return formula[1:-1]\n",
    "    a = get_sat(a)\n",
    "    b = get_sat(b)\n",
    "    # a = strfilter(str.isdecimal, a)\n",
    "    # b = strfilter(str.isdecimal, b)\n",
    "    return a + ':' + b"
   ]
  },
  {
   "cell_type": "code",
   "execution_count": 28,
   "metadata": {},
   "outputs": [],
   "source": [
    "def rename_parts(data):\n",
    "    \"\"\"\n",
    "    Replace the column names 'Area[c-1]', 'Area[c-2]', etc with names corresponding to each sample\n",
    "    \"\"\"\n",
    "\n",
    "    data.columns = sample_names\n",
    "    return data"
   ]
  },
  {
   "cell_type": "code",
   "execution_count": 29,
   "metadata": {},
   "outputs": [],
   "source": [
    "def prepare_for_graphing(data):\n",
    "    \"\"\"\n",
    "    Reshape a dataframe for easier graphing.\n",
    "\n",
    "    Concatenate the columns of a dataframe, adding a column named 'orig_sample' with the original column name,\n",
    "    a column named 'sample' with the sample condition, and a column named 'kind' with the values of the index.\n",
    "    \"\"\"\n",
    "    dfs = []\n",
    "    for sample in sample_names:\n",
    "        a = data.loc[:, sample] \\\n",
    "                .to_frame() \\\n",
    "                .rename(columns={sample: 'fraction'})\n",
    "        a['orig_sample'] = sample\n",
    "        dfs.append(a)\n",
    "    combined = pd.concat(dfs)\n",
    "    combined['kind'] = combined.index\n",
    "    combined['sample'] = combined['orig_sample'].map(name_map)\n",
    "    return combined"
   ]
  },
  {
   "cell_type": "code",
   "execution_count": 30,
   "metadata": {},
   "outputs": [],
   "source": [
    "def graph_fatty_acids(data, title: str):\n",
    "    \"\"\"\n",
    "    Generate a heat map and bar graph showing the fraction of the most common fatty acids in each sample.\n",
    "    \"\"\"\n",
    "    largest_rows = data \\\n",
    "                    .sum(axis=1) \\\n",
    "                    .sort_values(ascending=False) \\\n",
    "                    .iloc[:15] \\\n",
    "                    .index\n",
    "    a = data / data.sum()\n",
    "    a = a.loc[largest_rows, sample_names]\n",
    "    fig = plt.figure(figsize=(15, 5))\n",
    "    \n",
    "    # heatmap\n",
    "    plt.subplot(1, 2, 1)\n",
    "    \n",
    "    ax = sns.heatmap(a[sample_names_plotting], vmin=0, vmax=.35)\n",
    "    ax.set_title(title)\n",
    "    ax.set_xlabel('sample')\n",
    "    \n",
    "    # bar graph\n",
    "    plt.subplot(1, 2, 2)\n",
    "    a = prepare_for_graphing(a)\n",
    "    ax = sns.barplot(x='kind', y='fraction', hue='sample', hue_order = hue_order_list,data=a, ci=None)\n",
    "    plt.ylim(0, .35)\n",
    "    ax.set_title(title)\n",
    "    ax.set_xlabel('fatty acid')\n",
    "    fig.autofmt_xdate() # tilt and align the x-axis labels"
   ]
  },
  {
   "cell_type": "code",
   "execution_count": 31,
   "metadata": {},
   "outputs": [],
   "source": [
    "def graph_saturation(data, title: str):\n",
    "    \"\"\"\n",
    "    Generate a bar graph showing the fraction of saturated fats in each condition.\n",
    "    \"\"\"\n",
    "    a = data.groupby([how_much_saturated(x) for x in data.index]).sum()\n",
    "    a = a / a.sum()\n",
    "    plt.ylim(0, .8)\n",
    "    a = prepare_for_graphing(a)\n",
    "    ax = sns.barplot(x='sample', y='fraction', hue='kind',data=a, ci=None)\n",
    "    ax.set_title(title + ' saturated / monounsaturated / polyunsaturated')"
   ]
  },
  {
   "cell_type": "code",
   "execution_count": 32,
   "metadata": {},
   "outputs": [],
   "source": [
    "def run_pca(data):\n",
    "    data_pca = data.T.iloc[0:15]\n",
    "\n",
    "    # normalize to mean 0 and variance 1\n",
    "    scaler = StandardScaler() \n",
    "    scaler.fit(data_pca)\n",
    "    scaled_data = scaler.transform(data_pca)\n",
    "    \n",
    "    # project data onto PCA dimensions\n",
    "    pca = PCA(n_components = 2)\n",
    "    pca.fit(scaled_data)\n",
    "    components = pca.transform(scaled_data)\n",
    "    \n",
    "    loading_vectors = pd.DataFrame(pca.components_.T, columns=['PC1', 'PC2'], index=data_pca.columns)\n",
    "    pca_values_df = pd.DataFrame(data = components, columns = ['PC1', 'PC2'])\n",
    "    pca_values_df['sample'] = data_pca.index\n",
    "    return loading_vectors, pca_values_df"
   ]
  },
  {
   "cell_type": "code",
   "execution_count": 33,
   "metadata": {},
   "outputs": [],
   "source": [
    "def graph_pca(data, title: str):\n",
    "    fig = plt.figure(figsize = (8,8))\n",
    "    data['sample'] = data['sample'].map(name_map)\n",
    "    ax = sns.scatterplot(x='PC1', y='PC2', hue='sample', hue_order = hue_order_list,data=data, s=100)\n",
    "    ax.set_xlabel('PC1', fontsize = 15)\n",
    "    ax.set_ylabel('PC2', fontsize = 15)\n",
    "    ax.set_title('PCA - ' + title, fontsize = 20)\n",
    "    ax.grid()"
   ]
  },
  {
   "cell_type": "markdown",
   "metadata": {},
   "source": [
    "## Data Processing"
   ]
  },
  {
   "cell_type": "code",
   "execution_count": 34,
   "metadata": {},
   "outputs": [],
   "source": [
    "df_old = df\n",
    "df = remove_wrong_fatty_acid_counts(df)"
   ]
  },
  {
   "cell_type": "code",
   "execution_count": 35,
   "metadata": {},
   "outputs": [
    {
     "data": {
      "text/plain": [
       "(1916, 34)"
      ]
     },
     "execution_count": 35,
     "metadata": {},
     "output_type": "execute_result"
    }
   ],
   "source": [
    "df_old.shape"
   ]
  },
  {
   "cell_type": "code",
   "execution_count": 36,
   "metadata": {},
   "outputs": [
    {
     "data": {
      "text/plain": [
       "(1467, 34)"
      ]
     },
     "execution_count": 36,
     "metadata": {},
     "output_type": "execute_result"
    }
   ],
   "source": [
    "df.shape"
   ]
  },
  {
   "cell_type": "code",
   "execution_count": 37,
   "metadata": {},
   "outputs": [
    {
     "data": {
      "text/html": [
       "<div>\n",
       "<style scoped>\n",
       "    .dataframe tbody tr th:only-of-type {\n",
       "        vertical-align: middle;\n",
       "    }\n",
       "\n",
       "    .dataframe tbody tr th {\n",
       "        vertical-align: top;\n",
       "    }\n",
       "\n",
       "    .dataframe thead th {\n",
       "        text-align: right;\n",
       "    }\n",
       "</style>\n",
       "<table border=\"1\" class=\"dataframe\">\n",
       "  <thead>\n",
       "    <tr style=\"text-align: right;\">\n",
       "      <th></th>\n",
       "      <th>LipidIon</th>\n",
       "      <th>LipidGroup</th>\n",
       "      <th>Class</th>\n",
       "      <th>FattyAcid</th>\n",
       "      <th>FA1</th>\n",
       "      <th>FA2</th>\n",
       "      <th>FA3</th>\n",
       "      <th>CalcMz</th>\n",
       "      <th>IonFormula</th>\n",
       "      <th>Area[c-1]</th>\n",
       "      <th>...</th>\n",
       "      <th>Rt[c-4]</th>\n",
       "      <th>Rt[c-5]</th>\n",
       "      <th>Rt[c-6]</th>\n",
       "      <th>Delta(ppm)[c-1]</th>\n",
       "      <th>Delta(ppm)[c-2]</th>\n",
       "      <th>Delta(ppm)[c-3]</th>\n",
       "      <th>Delta(ppm)[c-4]</th>\n",
       "      <th>Delta(ppm)[c-5]</th>\n",
       "      <th>Delta(ppm)[c-6]</th>\n",
       "      <th>right_fa_count</th>\n",
       "    </tr>\n",
       "  </thead>\n",
       "  <tbody>\n",
       "    <tr>\n",
       "      <th>0</th>\n",
       "      <td>AcCa(6:0)+H</td>\n",
       "      <td>AcCa(6:0)+H</td>\n",
       "      <td>AcCa</td>\n",
       "      <td>(6:0)</td>\n",
       "      <td>(6:0)</td>\n",
       "      <td>NaN</td>\n",
       "      <td>NaN</td>\n",
       "      <td>260.185635</td>\n",
       "      <td>C13 H26 O4 N1</td>\n",
       "      <td>2.680061e+06</td>\n",
       "      <td>...</td>\n",
       "      <td>0.917000</td>\n",
       "      <td>0.882000</td>\n",
       "      <td>0.875000</td>\n",
       "      <td>0.017411</td>\n",
       "      <td>0.017411</td>\n",
       "      <td>0.017411</td>\n",
       "      <td>0.017411</td>\n",
       "      <td>2.496179</td>\n",
       "      <td>0.017411</td>\n",
       "      <td>True</td>\n",
       "    </tr>\n",
       "    <tr>\n",
       "      <th>1</th>\n",
       "      <td>AcCa(6:0)+H</td>\n",
       "      <td>AcCa(6:0)+H</td>\n",
       "      <td>AcCa</td>\n",
       "      <td>(6:0)</td>\n",
       "      <td>(6:0)</td>\n",
       "      <td>NaN</td>\n",
       "      <td>NaN</td>\n",
       "      <td>260.185635</td>\n",
       "      <td>C13 H26 O4 N1</td>\n",
       "      <td>1.187262e+06</td>\n",
       "      <td>...</td>\n",
       "      <td>3.083000</td>\n",
       "      <td>3.085000</td>\n",
       "      <td>3.053000</td>\n",
       "      <td>0.017411</td>\n",
       "      <td>0.017411</td>\n",
       "      <td>0.017411</td>\n",
       "      <td>0.017411</td>\n",
       "      <td>0.017411</td>\n",
       "      <td>0.017411</td>\n",
       "      <td>True</td>\n",
       "    </tr>\n",
       "    <tr>\n",
       "      <th>2</th>\n",
       "      <td>AcCa(6:0)+H</td>\n",
       "      <td>AcCa(6:0)+H</td>\n",
       "      <td>AcCa</td>\n",
       "      <td>(6:0)</td>\n",
       "      <td>(6:0)</td>\n",
       "      <td>NaN</td>\n",
       "      <td>NaN</td>\n",
       "      <td>260.185635</td>\n",
       "      <td>C13 H26 O4 N1</td>\n",
       "      <td>1.247387e+06</td>\n",
       "      <td>...</td>\n",
       "      <td>4.333000</td>\n",
       "      <td>3.794000</td>\n",
       "      <td>3.845000</td>\n",
       "      <td>0.017411</td>\n",
       "      <td>0.017411</td>\n",
       "      <td>0.017411</td>\n",
       "      <td>0.017411</td>\n",
       "      <td>0.017411</td>\n",
       "      <td>0.017411</td>\n",
       "      <td>True</td>\n",
       "    </tr>\n",
       "    <tr>\n",
       "      <th>3</th>\n",
       "      <td>AcCa(6:0)+H</td>\n",
       "      <td>AcCa(6:0)+H</td>\n",
       "      <td>AcCa</td>\n",
       "      <td>(6:0)</td>\n",
       "      <td>(6:0)</td>\n",
       "      <td>NaN</td>\n",
       "      <td>NaN</td>\n",
       "      <td>260.185635</td>\n",
       "      <td>C13 H26 O4 N1</td>\n",
       "      <td>1.040609e+06</td>\n",
       "      <td>...</td>\n",
       "      <td>5.591000</td>\n",
       "      <td>5.623000</td>\n",
       "      <td>5.873000</td>\n",
       "      <td>0.017411</td>\n",
       "      <td>0.017411</td>\n",
       "      <td>0.017411</td>\n",
       "      <td>0.017411</td>\n",
       "      <td>0.017411</td>\n",
       "      <td>0.017411</td>\n",
       "      <td>True</td>\n",
       "    </tr>\n",
       "    <tr>\n",
       "      <th>4</th>\n",
       "      <td>AcCa(6:0)+H</td>\n",
       "      <td>AcCa(6:0)+H</td>\n",
       "      <td>AcCa</td>\n",
       "      <td>(6:0)</td>\n",
       "      <td>(6:0)</td>\n",
       "      <td>NaN</td>\n",
       "      <td>NaN</td>\n",
       "      <td>260.185635</td>\n",
       "      <td>C13 H26 O4 N1</td>\n",
       "      <td>1.494222e+06</td>\n",
       "      <td>...</td>\n",
       "      <td>7.473000</td>\n",
       "      <td>7.370000</td>\n",
       "      <td>7.332000</td>\n",
       "      <td>0.017411</td>\n",
       "      <td>2.815182</td>\n",
       "      <td>0.017411</td>\n",
       "      <td>0.017411</td>\n",
       "      <td>0.017411</td>\n",
       "      <td>0.017411</td>\n",
       "      <td>True</td>\n",
       "    </tr>\n",
       "    <tr>\n",
       "      <th>...</th>\n",
       "      <td>...</td>\n",
       "      <td>...</td>\n",
       "      <td>...</td>\n",
       "      <td>...</td>\n",
       "      <td>...</td>\n",
       "      <td>...</td>\n",
       "      <td>...</td>\n",
       "      <td>...</td>\n",
       "      <td>...</td>\n",
       "      <td>...</td>\n",
       "      <td>...</td>\n",
       "      <td>...</td>\n",
       "      <td>...</td>\n",
       "      <td>...</td>\n",
       "      <td>...</td>\n",
       "      <td>...</td>\n",
       "      <td>...</td>\n",
       "      <td>...</td>\n",
       "      <td>...</td>\n",
       "      <td>...</td>\n",
       "      <td>...</td>\n",
       "    </tr>\n",
       "    <tr>\n",
       "      <th>1911</th>\n",
       "      <td>WE(7:0_22:5)+H</td>\n",
       "      <td>WE(29:5)+H</td>\n",
       "      <td>WE</td>\n",
       "      <td>(7:0_22:5)</td>\n",
       "      <td>(7:0)</td>\n",
       "      <td>(22:5)</td>\n",
       "      <td>NaN</td>\n",
       "      <td>429.372706</td>\n",
       "      <td>H49 C29 O2</td>\n",
       "      <td>9.087984e+05</td>\n",
       "      <td>...</td>\n",
       "      <td>29.717000</td>\n",
       "      <td>29.687000</td>\n",
       "      <td>29.659000</td>\n",
       "      <td>0.008221</td>\n",
       "      <td>0.008221</td>\n",
       "      <td>0.008221</td>\n",
       "      <td>0.008221</td>\n",
       "      <td>1.694262</td>\n",
       "      <td>2.975201</td>\n",
       "      <td>True</td>\n",
       "    </tr>\n",
       "    <tr>\n",
       "      <th>1912</th>\n",
       "      <td>WE(24:4_20:1)+H</td>\n",
       "      <td>WE(44:5)+H</td>\n",
       "      <td>WE</td>\n",
       "      <td>(24:4_20:1)</td>\n",
       "      <td>(24:4)</td>\n",
       "      <td>(20:1)</td>\n",
       "      <td>NaN</td>\n",
       "      <td>639.607456</td>\n",
       "      <td>H79 C44 O2</td>\n",
       "      <td>0.000000e+00</td>\n",
       "      <td>...</td>\n",
       "      <td>21.833000</td>\n",
       "      <td>21.836000</td>\n",
       "      <td>21.772000</td>\n",
       "      <td>1000000.000000</td>\n",
       "      <td>3.762511</td>\n",
       "      <td>0.005519</td>\n",
       "      <td>0.005519</td>\n",
       "      <td>1000000.000000</td>\n",
       "      <td>0.005519</td>\n",
       "      <td>True</td>\n",
       "    </tr>\n",
       "    <tr>\n",
       "      <th>1913</th>\n",
       "      <td>ZyE()+H-H2O</td>\n",
       "      <td>ZyE()+H-H2O</td>\n",
       "      <td>ZyE</td>\n",
       "      <td>()</td>\n",
       "      <td>NaN</td>\n",
       "      <td>NaN</td>\n",
       "      <td>NaN</td>\n",
       "      <td>367.335926</td>\n",
       "      <td>C27 H43 O0</td>\n",
       "      <td>8.064601e+05</td>\n",
       "      <td>...</td>\n",
       "      <td>13.322662</td>\n",
       "      <td>13.322662</td>\n",
       "      <td>13.322662</td>\n",
       "      <td>0.009610</td>\n",
       "      <td>0.009610</td>\n",
       "      <td>0.009610</td>\n",
       "      <td>1000000.000000</td>\n",
       "      <td>1000000.000000</td>\n",
       "      <td>1000000.000000</td>\n",
       "      <td>True</td>\n",
       "    </tr>\n",
       "    <tr>\n",
       "      <th>1914</th>\n",
       "      <td>ZyE()+H-H2O</td>\n",
       "      <td>ZyE()+H-H2O</td>\n",
       "      <td>ZyE</td>\n",
       "      <td>()</td>\n",
       "      <td>NaN</td>\n",
       "      <td>NaN</td>\n",
       "      <td>NaN</td>\n",
       "      <td>367.335926</td>\n",
       "      <td>C27 H43 O0</td>\n",
       "      <td>1.216307e+06</td>\n",
       "      <td>...</td>\n",
       "      <td>18.256616</td>\n",
       "      <td>18.268000</td>\n",
       "      <td>18.287000</td>\n",
       "      <td>0.009610</td>\n",
       "      <td>0.009610</td>\n",
       "      <td>0.009610</td>\n",
       "      <td>1000000.000000</td>\n",
       "      <td>0.009610</td>\n",
       "      <td>0.009610</td>\n",
       "      <td>True</td>\n",
       "    </tr>\n",
       "    <tr>\n",
       "      <th>1915</th>\n",
       "      <td>phSM(d34:1)+HCOO</td>\n",
       "      <td>phSM(d34:1)+HCOO</td>\n",
       "      <td>phSM</td>\n",
       "      <td>(d34:1)</td>\n",
       "      <td>(d34:1)</td>\n",
       "      <td>NaN</td>\n",
       "      <td>NaN</td>\n",
       "      <td>763.560695</td>\n",
       "      <td>C40 H80 O9 N2 P1</td>\n",
       "      <td>0.000000e+00</td>\n",
       "      <td>...</td>\n",
       "      <td>17.681000</td>\n",
       "      <td>17.681000</td>\n",
       "      <td>17.681000</td>\n",
       "      <td>1000000.000000</td>\n",
       "      <td>0.005933</td>\n",
       "      <td>0.005933</td>\n",
       "      <td>1000000.000000</td>\n",
       "      <td>1000000.000000</td>\n",
       "      <td>1000000.000000</td>\n",
       "      <td>True</td>\n",
       "    </tr>\n",
       "  </tbody>\n",
       "</table>\n",
       "<p>1467 rows × 34 columns</p>\n",
       "</div>"
      ],
      "text/plain": [
       "              LipidIon        LipidGroup Class    FattyAcid      FA1     FA2  \\\n",
       "0          AcCa(6:0)+H       AcCa(6:0)+H  AcCa        (6:0)    (6:0)     NaN   \n",
       "1          AcCa(6:0)+H       AcCa(6:0)+H  AcCa        (6:0)    (6:0)     NaN   \n",
       "2          AcCa(6:0)+H       AcCa(6:0)+H  AcCa        (6:0)    (6:0)     NaN   \n",
       "3          AcCa(6:0)+H       AcCa(6:0)+H  AcCa        (6:0)    (6:0)     NaN   \n",
       "4          AcCa(6:0)+H       AcCa(6:0)+H  AcCa        (6:0)    (6:0)     NaN   \n",
       "...                ...               ...   ...          ...      ...     ...   \n",
       "1911    WE(7:0_22:5)+H        WE(29:5)+H    WE   (7:0_22:5)    (7:0)  (22:5)   \n",
       "1912   WE(24:4_20:1)+H        WE(44:5)+H    WE  (24:4_20:1)   (24:4)  (20:1)   \n",
       "1913       ZyE()+H-H2O       ZyE()+H-H2O   ZyE           ()      NaN     NaN   \n",
       "1914       ZyE()+H-H2O       ZyE()+H-H2O   ZyE           ()      NaN     NaN   \n",
       "1915  phSM(d34:1)+HCOO  phSM(d34:1)+HCOO  phSM      (d34:1)  (d34:1)     NaN   \n",
       "\n",
       "      FA3      CalcMz        IonFormula     Area[c-1]  ...    Rt[c-4]  \\\n",
       "0     NaN  260.185635     C13 H26 O4 N1  2.680061e+06  ...   0.917000   \n",
       "1     NaN  260.185635     C13 H26 O4 N1  1.187262e+06  ...   3.083000   \n",
       "2     NaN  260.185635     C13 H26 O4 N1  1.247387e+06  ...   4.333000   \n",
       "3     NaN  260.185635     C13 H26 O4 N1  1.040609e+06  ...   5.591000   \n",
       "4     NaN  260.185635     C13 H26 O4 N1  1.494222e+06  ...   7.473000   \n",
       "...   ...         ...               ...           ...  ...        ...   \n",
       "1911  NaN  429.372706        H49 C29 O2  9.087984e+05  ...  29.717000   \n",
       "1912  NaN  639.607456        H79 C44 O2  0.000000e+00  ...  21.833000   \n",
       "1913  NaN  367.335926        C27 H43 O0  8.064601e+05  ...  13.322662   \n",
       "1914  NaN  367.335926        C27 H43 O0  1.216307e+06  ...  18.256616   \n",
       "1915  NaN  763.560695  C40 H80 O9 N2 P1  0.000000e+00  ...  17.681000   \n",
       "\n",
       "        Rt[c-5]    Rt[c-6]  Delta(ppm)[c-1]  Delta(ppm)[c-2]  Delta(ppm)[c-3]  \\\n",
       "0      0.882000   0.875000         0.017411         0.017411         0.017411   \n",
       "1      3.085000   3.053000         0.017411         0.017411         0.017411   \n",
       "2      3.794000   3.845000         0.017411         0.017411         0.017411   \n",
       "3      5.623000   5.873000         0.017411         0.017411         0.017411   \n",
       "4      7.370000   7.332000         0.017411         2.815182         0.017411   \n",
       "...         ...        ...              ...              ...              ...   \n",
       "1911  29.687000  29.659000         0.008221         0.008221         0.008221   \n",
       "1912  21.836000  21.772000   1000000.000000         3.762511         0.005519   \n",
       "1913  13.322662  13.322662         0.009610         0.009610         0.009610   \n",
       "1914  18.268000  18.287000         0.009610         0.009610         0.009610   \n",
       "1915  17.681000  17.681000   1000000.000000         0.005933         0.005933   \n",
       "\n",
       "      Delta(ppm)[c-4]  Delta(ppm)[c-5]  Delta(ppm)[c-6]  right_fa_count  \n",
       "0            0.017411         2.496179         0.017411            True  \n",
       "1            0.017411         0.017411         0.017411            True  \n",
       "2            0.017411         0.017411         0.017411            True  \n",
       "3            0.017411         0.017411         0.017411            True  \n",
       "4            0.017411         0.017411         0.017411            True  \n",
       "...               ...              ...              ...             ...  \n",
       "1911         0.008221         1.694262         2.975201            True  \n",
       "1912         0.005519   1000000.000000         0.005519            True  \n",
       "1913   1000000.000000   1000000.000000   1000000.000000            True  \n",
       "1914   1000000.000000         0.009610         0.009610            True  \n",
       "1915   1000000.000000   1000000.000000   1000000.000000            True  \n",
       "\n",
       "[1467 rows x 34 columns]"
      ]
     },
     "execution_count": 37,
     "metadata": {},
     "output_type": "execute_result"
    }
   ],
   "source": [
    "df"
   ]
  },
  {
   "cell_type": "code",
   "execution_count": 38,
   "metadata": {},
   "outputs": [
    {
     "name": "stderr",
     "output_type": "stream",
     "text": [
      "C:\\Users\\mksaa\\Anaconda3\\lib\\site-packages\\pandas\\core\\indexing.py:966: SettingWithCopyWarning: \n",
      "A value is trying to be set on a copy of a slice from a DataFrame.\n",
      "Try using .loc[row_indexer,col_indexer] = value instead\n",
      "\n",
      "See the caveats in the documentation: https://pandas.pydata.org/pandas-docs/stable/user_guide/indexing.html#returning-a-view-versus-a-copy\n",
      "  self.obj[item] = s\n"
     ]
    }
   ],
   "source": [
    "# Total areas for each fatty acid\n",
    "areas_total = rename_parts(sum_areas(df))\n",
    "areas_total = areas_total.drop('Q10')\n",
    "areas_total_sum = pd.Series(areas_total.sum(axis = 0), name = 'Total Areas')\n"
   ]
  },
  {
   "cell_type": "code",
   "execution_count": 39,
   "metadata": {},
   "outputs": [],
   "source": [
    "# Phospholipid and triglyceride areas for each fatty acid\n",
    "\n",
    "\n",
    "df_phospho = df[df['Class'].map(lambda x: x in phospholipids)].reset_index()\n",
    "df_TG = df[df['Class'] == 'TG'].reset_index()\n",
    "areas_tg = rename_parts(sum_areas(df_TG))\n",
    "areas_phospho = rename_parts(sum_areas(df_phospho))"
   ]
  },
  {
   "cell_type": "code",
   "execution_count": 40,
   "metadata": {},
   "outputs": [],
   "source": [
    "# Total phospholipid and triglyceride areas\n",
    "\n",
    "\n",
    "areas_phospho_sum = pd.Series(areas_phospho.sum(axis = 0), name = 'Total Phospho Areas')\n",
    "areas_tg_sum = pd.Series(areas_tg.sum(axis = 0), name = 'Total TG Areas')"
   ]
  },
  {
   "cell_type": "code",
   "execution_count": 41,
   "metadata": {},
   "outputs": [],
   "source": [
    "# Calculate percent phospholipid and triglyceride, over the total lipid area\n",
    "\n",
    "percent_phospho = areas_phospho_sum/areas_total_sum*100\n",
    "percent_tg = areas_tg_sum/areas_total_sum*100\n",
    "percent_dict = {'Percent Phospho': percent_phospho, 'Percent TG':percent_tg}\n",
    "percent_total_lipids = pd.DataFrame(data = percent_dict)"
   ]
  },
  {
   "cell_type": "code",
   "execution_count": 42,
   "metadata": {},
   "outputs": [],
   "source": [
    "# Percent saturation \n",
    "a = areas_tg.groupby([how_much_saturated(x) for x in areas_tg.index]).sum()\n",
    "a = a / a.sum()\n",
    "\n",
    "b = areas_phospho.groupby([how_much_saturated(x) for x in areas_phospho.index]).sum()\n",
    "b = b / b.sum()\n",
    "\n",
    "c = areas_total.groupby([how_much_saturated(x) for x in areas_total.index]).sum()\n",
    "c = c / c.sum()"
   ]
  },
  {
   "cell_type": "code",
   "execution_count": 43,
   "metadata": {},
   "outputs": [],
   "source": [
    "# Save dataframes as xlsx\n",
    "\n",
    "a.to_excel(date + \"_triglycerides_saturated.xlsx\")\n",
    "b.to_excel(date + \"_phospholipids_saturated.xlsx\")\n",
    "c.to_excel(date+\"_total_saturated.xlsx\")\n",
    "areas_tg.to_excel(date + \"_triglycerides_areas.xlsx\")\n",
    "areas_phospho.to_excel(date + \"_phospholipids_areas.xlsx\")\n",
    "percent_total_lipids.to_excel(date + '_percent_of_total_lipids.xlsx')"
   ]
  },
  {
   "cell_type": "markdown",
   "metadata": {},
   "source": [
    "## Visualizations"
   ]
  },
  {
   "cell_type": "code",
   "execution_count": 44,
   "metadata": {},
   "outputs": [
    {
     "data": {
      "image/png": "[encoded data removed]",
      "text/plain": [
       "<Figure size 1080x360 with 3 Axes>"
      ]
     },
     "metadata": {
      "needs_background": "light"
     },
     "output_type": "display_data"
    },
    {
     "data": {
      "image/png": "[encoded data removed]",
      "text/plain": [
       "<Figure size 1080x360 with 3 Axes>"
      ]
     },
     "metadata": {
      "needs_background": "light"
     },
     "output_type": "display_data"
    }
   ],
   "source": [
    "graph_fatty_acids(areas_tg, 'Triglycerides')\n",
    "graph_fatty_acids(areas_phospho, 'Phospholipids')"
   ]
  },
  {
   "cell_type": "code",
   "execution_count": 45,
   "metadata": {},
   "outputs": [
    {
     "data": {
      "image/png": "[encoded data removed]",
      "text/plain": [
       "<Figure size 1080x360 with 3 Axes>"
      ]
     },
     "metadata": {
      "needs_background": "light"
     },
     "output_type": "display_data"
    }
   ],
   "source": [
    "graph_fatty_acids(areas_total, 'Total')"
   ]
  },
  {
   "cell_type": "code",
   "execution_count": 46,
   "metadata": {
    "scrolled": true
   },
   "outputs": [
    {
     "data": {
      "image/png": "[encoded data removed]",
      "text/plain": [
       "<Figure size 1080x360 with 2 Axes>"
      ]
     },
     "metadata": {
      "needs_background": "light"
     },
     "output_type": "display_data"
    }
   ],
   "source": [
    "plt.figure(figsize=(15, 5))\n",
    "plt.subplot(1, 2, 1)\n",
    "graph_saturation(areas_tg, 'Triglycerides')\n",
    "plt.subplot(1, 2, 2)\n",
    "graph_saturation(areas_phospho, 'Phospholipids')"
   ]
  },
  {
   "cell_type": "code",
   "execution_count": 47,
   "metadata": {},
   "outputs": [
    {
     "data": {
      "image/png": "[encoded data removed]",
      "text/plain": [
       "<Figure size 576x576 with 1 Axes>"
      ]
     },
     "metadata": {
      "needs_background": "light"
     },
     "output_type": "display_data"
    },
    {
     "data": {
      "image/png": "[encoded data removed]",
      "text/plain": [
       "<Figure size 576x576 with 1 Axes>"
      ]
     },
     "metadata": {
      "needs_background": "light"
     },
     "output_type": "display_data"
    }
   ],
   "source": [
    "loading_vectors_tg, pca_tg = run_pca(areas_tg)\n",
    "graph_pca(pca_tg, 'TG')\n",
    "loading_vectors_phospho, pca_phospho = run_pca(areas_phospho)\n",
    "graph_pca(pca_phospho, 'Phospho')"
   ]
  }
 ],
 "metadata": {
  "kernelspec": {
   "display_name": "Python 3",
   "language": "python",
   "name": "python3"
  },
  "language_info": {
   "codemirror_mode": {
    "name": "ipython",
    "version": 3
   },
   "file_extension": ".py",
   "mimetype": "text/x-python",
   "name": "python",
   "nbconvert_exporter": "python",
   "pygments_lexer": "ipython3",
   "version": "3.8.3"
  }
 },
 "nbformat": 4,
 "nbformat_minor": 4
}
